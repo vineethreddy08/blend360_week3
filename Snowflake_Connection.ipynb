{
 "cells": [
  {
   "cell_type": "code",
   "execution_count": 5,
   "id": "07512c54",
   "metadata": {},
   "outputs": [],
   "source": [
    "from snowflake.connector.pandas_tools import write_pandas\n",
    "import snowflake.connector\n",
    "import pandas as pd\n",
    "import credentials"
   ]
  },
  {
   "cell_type": "code",
   "execution_count": 2,
   "id": "5fd17ec6",
   "metadata": {},
   "outputs": [],
   "source": [
    "data = pd.read_csv('transformed_books_data.csv')"
   ]
  },
  {
   "cell_type": "code",
   "execution_count": 15,
   "id": "b6fb44fb",
   "metadata": {},
   "outputs": [],
   "source": [
    "con = snowflake.connector.connect(\n",
    "    user = 'VINEETHREDDY',\n",
    "    password = 'my_pwd',\n",
    "    account = 'nlsfqcs-ln48670',\n",
    "    warehouse = 'COMPUTE_WH',\n",
    "    database = 'DE_CODING',\n",
    "    schema = 'PUBLIC',\n",
    "    role = 'ACCOUNTADMIN')"
   ]
  },
  {
   "cell_type": "code",
   "execution_count": 18,
   "id": "8366626f",
   "metadata": {},
   "outputs": [],
   "source": [
    "cur = con.cursor()"
   ]
  },
  {
   "cell_type": "code",
   "execution_count": 20,
   "id": "b36a40fe",
   "metadata": {},
   "outputs": [
    {
     "data": {
      "text/plain": [
       "Index(['Title', 'Rating', 'Price', 'Availability'], dtype='object')"
      ]
     },
     "execution_count": 20,
     "metadata": {},
     "output_type": "execute_result"
    }
   ],
   "source": [
    "data.columns"
   ]
  },
  {
   "cell_type": "code",
   "execution_count": 26,
   "id": "ed1a3d1a",
   "metadata": {},
   "outputs": [
    {
     "data": {
      "text/plain": [
       "<snowflake.connector.cursor.SnowflakeCursor at 0x23f35f4fdd0>"
      ]
     },
     "execution_count": 26,
     "metadata": {},
     "output_type": "execute_result"
    }
   ],
   "source": [
    "cur.execute('CREATE TABLE \"BOOKS_DATA_PYTHON2\" (\"Title\" String, \"Rating\" FLOAT,\"Price\" FLOAT, \"Availability\" String)')"
   ]
  },
  {
   "cell_type": "code",
   "execution_count": 27,
   "id": "8af3ac32",
   "metadata": {},
   "outputs": [
    {
     "data": {
      "text/plain": [
       "(True,\n",
       " 1,\n",
       " 1000,\n",
       " [('jhtkxmobmf/file0.txt',\n",
       "   'LOADED',\n",
       "   1000,\n",
       "   1000,\n",
       "   1,\n",
       "   0,\n",
       "   None,\n",
       "   None,\n",
       "   None,\n",
       "   None)])"
      ]
     },
     "execution_count": 27,
     "metadata": {},
     "output_type": "execute_result"
    }
   ],
   "source": [
    "write_pandas(con, data, table_name = \"BOOKS_DATA_PYTHON2\")"
   ]
  },
  {
   "cell_type": "markdown",
   "id": "d1f95d68",
   "metadata": {},
   "source": [
    "## Data Retrieval"
   ]
  },
  {
   "cell_type": "code",
   "execution_count": 29,
   "id": "e498d2a4",
   "metadata": {},
   "outputs": [],
   "source": [
    "sqlquery = 'select * from \"BOOKS_DATA_PYTHON2\"'\n",
    "cur.execute(sqlquery)\n",
    "data_fetch = cur.fetchall()\n",
    "df = pd.DataFrame(data_fetch)"
   ]
  },
  {
   "cell_type": "code",
   "execution_count": 30,
   "id": "b7dbb6a6",
   "metadata": {},
   "outputs": [
    {
     "data": {
      "text/html": [
       "<div>\n",
       "<style scoped>\n",
       "    .dataframe tbody tr th:only-of-type {\n",
       "        vertical-align: middle;\n",
       "    }\n",
       "\n",
       "    .dataframe tbody tr th {\n",
       "        vertical-align: top;\n",
       "    }\n",
       "\n",
       "    .dataframe thead th {\n",
       "        text-align: right;\n",
       "    }\n",
       "</style>\n",
       "<table border=\"1\" class=\"dataframe\">\n",
       "  <thead>\n",
       "    <tr style=\"text-align: right;\">\n",
       "      <th></th>\n",
       "      <th>0</th>\n",
       "      <th>1</th>\n",
       "      <th>2</th>\n",
       "      <th>3</th>\n",
       "    </tr>\n",
       "  </thead>\n",
       "  <tbody>\n",
       "    <tr>\n",
       "      <th>0</th>\n",
       "      <td>A Light in the Attic</td>\n",
       "      <td>3.0</td>\n",
       "      <td>51.77</td>\n",
       "      <td>In stock</td>\n",
       "    </tr>\n",
       "    <tr>\n",
       "      <th>1</th>\n",
       "      <td>Tipping the Velvet</td>\n",
       "      <td>1.0</td>\n",
       "      <td>53.74</td>\n",
       "      <td>In stock</td>\n",
       "    </tr>\n",
       "    <tr>\n",
       "      <th>2</th>\n",
       "      <td>Soumission</td>\n",
       "      <td>1.0</td>\n",
       "      <td>50.10</td>\n",
       "      <td>In stock</td>\n",
       "    </tr>\n",
       "    <tr>\n",
       "      <th>3</th>\n",
       "      <td>Sharp Objects</td>\n",
       "      <td>4.0</td>\n",
       "      <td>47.82</td>\n",
       "      <td>In stock</td>\n",
       "    </tr>\n",
       "    <tr>\n",
       "      <th>4</th>\n",
       "      <td>Sapiens: A Brief History of Humankind</td>\n",
       "      <td>5.0</td>\n",
       "      <td>54.23</td>\n",
       "      <td>In stock</td>\n",
       "    </tr>\n",
       "    <tr>\n",
       "      <th>...</th>\n",
       "      <td>...</td>\n",
       "      <td>...</td>\n",
       "      <td>...</td>\n",
       "      <td>...</td>\n",
       "    </tr>\n",
       "    <tr>\n",
       "      <th>995</th>\n",
       "      <td>Alice in Wonderland (Alice's Adventures in Won...</td>\n",
       "      <td>1.0</td>\n",
       "      <td>55.53</td>\n",
       "      <td>In stock</td>\n",
       "    </tr>\n",
       "    <tr>\n",
       "      <th>996</th>\n",
       "      <td>Ajin: Demi-Human, Volume 1 (Ajin: Demi-Human #1)</td>\n",
       "      <td>4.0</td>\n",
       "      <td>57.06</td>\n",
       "      <td>In stock</td>\n",
       "    </tr>\n",
       "    <tr>\n",
       "      <th>997</th>\n",
       "      <td>A Spy's Devotion (The Regency Spies of London #1)</td>\n",
       "      <td>5.0</td>\n",
       "      <td>16.97</td>\n",
       "      <td>In stock</td>\n",
       "    </tr>\n",
       "    <tr>\n",
       "      <th>998</th>\n",
       "      <td>1st to Die (Women's Murder Club #1)</td>\n",
       "      <td>1.0</td>\n",
       "      <td>53.98</td>\n",
       "      <td>In stock</td>\n",
       "    </tr>\n",
       "    <tr>\n",
       "      <th>999</th>\n",
       "      <td>1,000 Places to See Before You Die</td>\n",
       "      <td>5.0</td>\n",
       "      <td>26.08</td>\n",
       "      <td>In stock</td>\n",
       "    </tr>\n",
       "  </tbody>\n",
       "</table>\n",
       "<p>1000 rows × 4 columns</p>\n",
       "</div>"
      ],
      "text/plain": [
       "                                                     0    1      2         3\n",
       "0                                 A Light in the Attic  3.0  51.77  In stock\n",
       "1                                   Tipping the Velvet  1.0  53.74  In stock\n",
       "2                                           Soumission  1.0  50.10  In stock\n",
       "3                                        Sharp Objects  4.0  47.82  In stock\n",
       "4                Sapiens: A Brief History of Humankind  5.0  54.23  In stock\n",
       "..                                                 ...  ...    ...       ...\n",
       "995  Alice in Wonderland (Alice's Adventures in Won...  1.0  55.53  In stock\n",
       "996   Ajin: Demi-Human, Volume 1 (Ajin: Demi-Human #1)  4.0  57.06  In stock\n",
       "997  A Spy's Devotion (The Regency Spies of London #1)  5.0  16.97  In stock\n",
       "998                1st to Die (Women's Murder Club #1)  1.0  53.98  In stock\n",
       "999                 1,000 Places to See Before You Die  5.0  26.08  In stock\n",
       "\n",
       "[1000 rows x 4 columns]"
      ]
     },
     "execution_count": 30,
     "metadata": {},
     "output_type": "execute_result"
    }
   ],
   "source": [
    "df"
   ]
  },
  {
   "cell_type": "code",
   "execution_count": null,
   "id": "de92180b",
   "metadata": {},
   "outputs": [],
   "source": []
  },
  {
   "cell_type": "code",
   "execution_count": null,
   "id": "f46a7484",
   "metadata": {},
   "outputs": [],
   "source": []
  },
  {
   "cell_type": "code",
   "execution_count": null,
   "id": "5c912f98",
   "metadata": {},
   "outputs": [],
   "source": []
  },
  {
   "cell_type": "code",
   "execution_count": null,
   "id": "8d874fd0",
   "metadata": {},
   "outputs": [],
   "source": []
  }
 ],
 "metadata": {
  "kernelspec": {
   "display_name": "Python 3 (ipykernel)",
   "language": "python",
   "name": "python3"
  },
  "language_info": {
   "codemirror_mode": {
    "name": "ipython",
    "version": 3
   },
   "file_extension": ".py",
   "mimetype": "text/x-python",
   "name": "python",
   "nbconvert_exporter": "python",
   "pygments_lexer": "ipython3",
   "version": "3.11.4"
  }
 },
 "nbformat": 4,
 "nbformat_minor": 5
}
